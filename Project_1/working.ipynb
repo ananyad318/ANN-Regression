{
 "cells": [
  {
   "cell_type": "code",
   "execution_count": 174,
   "metadata": {},
   "outputs": [],
   "source": [
    "import pandas as pd\n",
    "from sklearn.preprocessing import LabelEncoder,OneHotEncoder, StandardScaler\n",
    "from sklearn.model_selection import train_test_split\n",
    "import pickle"
   ]
  },
  {
   "cell_type": "code",
   "execution_count": 175,
   "metadata": {},
   "outputs": [
    {
     "data": {
      "text/html": [
       "<div>\n",
       "<style scoped>\n",
       "    .dataframe tbody tr th:only-of-type {\n",
       "        vertical-align: middle;\n",
       "    }\n",
       "\n",
       "    .dataframe tbody tr th {\n",
       "        vertical-align: top;\n",
       "    }\n",
       "\n",
       "    .dataframe thead th {\n",
       "        text-align: right;\n",
       "    }\n",
       "</style>\n",
       "<table border=\"1\" class=\"dataframe\">\n",
       "  <thead>\n",
       "    <tr style=\"text-align: right;\">\n",
       "      <th></th>\n",
       "      <th>age</th>\n",
       "      <th>sex</th>\n",
       "      <th>bmi</th>\n",
       "      <th>children</th>\n",
       "      <th>smoker</th>\n",
       "      <th>region</th>\n",
       "      <th>charges</th>\n",
       "    </tr>\n",
       "  </thead>\n",
       "  <tbody>\n",
       "    <tr>\n",
       "      <th>0</th>\n",
       "      <td>19</td>\n",
       "      <td>female</td>\n",
       "      <td>27.90</td>\n",
       "      <td>0</td>\n",
       "      <td>yes</td>\n",
       "      <td>southwest</td>\n",
       "      <td>16884.9240</td>\n",
       "    </tr>\n",
       "    <tr>\n",
       "      <th>1</th>\n",
       "      <td>18</td>\n",
       "      <td>male</td>\n",
       "      <td>33.77</td>\n",
       "      <td>1</td>\n",
       "      <td>no</td>\n",
       "      <td>southeast</td>\n",
       "      <td>1725.5523</td>\n",
       "    </tr>\n",
       "  </tbody>\n",
       "</table>\n",
       "</div>"
      ],
      "text/plain": [
       "   age     sex    bmi  children smoker     region     charges\n",
       "0   19  female  27.90         0    yes  southwest  16884.9240\n",
       "1   18    male  33.77         1     no  southeast   1725.5523"
      ]
     },
     "execution_count": 175,
     "metadata": {},
     "output_type": "execute_result"
    }
   ],
   "source": [
    "df = pd.read_csv('insurance.csv')\n",
    "df.head(2)\n"
   ]
  },
  {
   "cell_type": "code",
   "execution_count": 176,
   "metadata": {},
   "outputs": [],
   "source": [
    "# Divide into X and Y variables\n",
    "\n",
    "X = df.drop('charges',axis = 1)\n",
    "Y = df[['charges']]"
   ]
  },
  {
   "cell_type": "code",
   "execution_count": 177,
   "metadata": {},
   "outputs": [],
   "source": [
    "# Train and Test Split\n",
    "\n",
    "X_train_full, X_test, Y_train_full, Y_test = train_test_split(X, Y, test_size=0.2, random_state=42)\n",
    "X_train, X_val, Y_train, Y_val = train_test_split(X_train_full, Y_train_full, test_size=0.2, random_state = 42)\n"
   ]
  },
  {
   "cell_type": "code",
   "execution_count": 178,
   "metadata": {},
   "outputs": [],
   "source": [
    "# Feature Engg\n",
    "\n",
    "label_sex = LabelEncoder()\n",
    "label_smoke = LabelEncoder()\n",
    "onehot_region = OneHotEncoder(sparse_output=False)\n",
    "\n",
    "X_train['sex'] = label_sex.fit_transform(X_train['sex'])\n",
    "X_val['sex'] = label_sex.transform(X_val['sex'])\n",
    "\n",
    "X_train['smoker'] = label_smoke.fit_transform(X_train['smoker'])\n",
    "X_val['smoker'] = label_smoke.transform(X_val['smoker'])\n",
    "\n",
    "\n",
    "X_train_trans = onehot_region.fit_transform(X_train[['region']])\n",
    "X_val_trans = onehot_region.transform(X_val[['region']])\n",
    "col_names = onehot_region.get_feature_names_out()\n",
    "encoded_df_test = pd.DataFrame(X_train_trans,columns = col_names )\n",
    "encoded_df_val = pd.DataFrame(X_val_trans,columns = col_names )\n",
    "\n"
   ]
  },
  {
   "cell_type": "code",
   "execution_count": 179,
   "metadata": {},
   "outputs": [],
   "source": [
    "# Drop the region column\n",
    "\n",
    "X_train = X_train.drop('region',axis = 1)\n",
    "X_val = X_val.drop('region',axis = 1)"
   ]
  },
  {
   "cell_type": "code",
   "execution_count": 180,
   "metadata": {},
   "outputs": [],
   "source": [
    "# Concat the one hot encoded columns\n",
    "\n",
    "X_train = pd.concat([encoded_df_test],axis = 1)\n",
    "X_val = pd.concat([encoded_df_val],axis = 1)"
   ]
  },
  {
   "cell_type": "code",
   "execution_count": 181,
   "metadata": {},
   "outputs": [],
   "source": [
    "# Scaling\n",
    "\n",
    "scalar = StandardScaler()\n",
    "X_train = scalar.fit_transform(X_train)\n",
    "X_val = scalar.transform(X_val)"
   ]
  },
  {
   "cell_type": "code",
   "execution_count": 182,
   "metadata": {},
   "outputs": [],
   "source": [
    "# Save in Pickle file\n",
    "\n",
    "with open('label_encoder_sex.pkl','wb') as file:\n",
    "    pickle.dump(label_sex,file)\n",
    "\n",
    "with open('label_encoder_smoke.pkl','wb') as file:\n",
    "    pickle.dump(label_smoke,file)    \n",
    "\n",
    "with open('onehot_region.pkl','wb') as file:\n",
    "    pickle.dump(onehot_region,file)  \n",
    "\n",
    "with open('scalar.pkl','wb') as file:\n",
    "    pickle.dump(scalar,file)         "
   ]
  },
  {
   "cell_type": "code",
   "execution_count": 183,
   "metadata": {},
   "outputs": [
    {
     "data": {
      "text/plain": [
       "(214, 4)"
      ]
     },
     "execution_count": 183,
     "metadata": {},
     "output_type": "execute_result"
    }
   ],
   "source": [
    "X_val.shape"
   ]
  },
  {
   "cell_type": "code",
   "execution_count": 184,
   "metadata": {},
   "outputs": [],
   "source": [
    "from tensorflow.keras.callbacks import EarlyStopping\n",
    "import tensorflow as tf\n",
    "from tensorflow.keras import Sequential\n",
    "from tensorflow.keras.layers import Dense\n",
    "from tensorflow.keras.optimizers import Adam, SGD, RMSprop\n",
    "import keras_tuner as kt"
   ]
  },
  {
   "cell_type": "code",
   "execution_count": 185,
   "metadata": {},
   "outputs": [
    {
     "name": "stdout",
     "output_type": "stream",
     "text": [
      "Reloading Tuner from my_dir/hyperparameter_tuning/tuner0.json\n",
      "Number of layers: 4\n",
      "Neurons in first hidden layer: 10\n",
      "Neurons in layer 2: 40\n",
      "Neurons in layer 3: 20\n",
      "Neurons in layer 4: 40\n",
      "Neurons in layer 5: 20\n",
      "Optimizer: adam\n",
      "Epoch 1/100\n"
     ]
    },
    {
     "name": "stderr",
     "output_type": "stream",
     "text": [
      "/workspaces/ANN-Regression/venv/lib/python3.9/site-packages/keras/src/layers/core/dense.py:87: UserWarning: Do not pass an `input_shape`/`input_dim` argument to a layer. When using Sequential models, prefer using an `Input(shape)` object as the first layer in the model instead.\n",
      "  super().__init__(activity_regularizer=activity_regularizer, **kwargs)\n"
     ]
    },
    {
     "name": "stdout",
     "output_type": "stream",
     "text": [
      "\u001b[1m27/27\u001b[0m \u001b[32m━━━━━━━━━━━━━━━━━━━━\u001b[0m\u001b[37m\u001b[0m \u001b[1m1s\u001b[0m 7ms/step - loss: 313202400.0000 - mean_absolute_error: 13194.2129 - val_loss: 355160192.0000 - val_mean_absolute_error: 13986.2930\n",
      "Epoch 2/100\n",
      "\u001b[1m27/27\u001b[0m \u001b[32m━━━━━━━━━━━━━━━━━━━━\u001b[0m\u001b[37m\u001b[0m \u001b[1m0s\u001b[0m 2ms/step - loss: 333113376.0000 - mean_absolute_error: 13450.8936 - val_loss: 354896480.0000 - val_mean_absolute_error: 13976.8584\n",
      "Epoch 3/100\n",
      "\u001b[1m27/27\u001b[0m \u001b[32m━━━━━━━━━━━━━━━━━━━━\u001b[0m\u001b[37m\u001b[0m \u001b[1m0s\u001b[0m 2ms/step - loss: 311869472.0000 - mean_absolute_error: 13158.6641 - val_loss: 353393696.0000 - val_mean_absolute_error: 13922.8789\n",
      "Epoch 4/100\n",
      "\u001b[1m27/27\u001b[0m \u001b[32m━━━━━━━━━━━━━━━━━━━━\u001b[0m\u001b[37m\u001b[0m \u001b[1m0s\u001b[0m 2ms/step - loss: 296533696.0000 - mean_absolute_error: 12837.2705 - val_loss: 346361216.0000 - val_mean_absolute_error: 13666.9648\n",
      "Epoch 5/100\n",
      "\u001b[1m27/27\u001b[0m \u001b[32m━━━━━━━━━━━━━━━━━━━━\u001b[0m\u001b[37m\u001b[0m \u001b[1m0s\u001b[0m 2ms/step - loss: 284542592.0000 - mean_absolute_error: 12662.6455 - val_loss: 321723232.0000 - val_mean_absolute_error: 12729.5557\n",
      "Epoch 6/100\n",
      "\u001b[1m27/27\u001b[0m \u001b[32m━━━━━━━━━━━━━━━━━━━━\u001b[0m\u001b[37m\u001b[0m \u001b[1m0s\u001b[0m 2ms/step - loss: 252811200.0000 - mean_absolute_error: 11195.4932 - val_loss: 260123696.0000 - val_mean_absolute_error: 10586.7324\n",
      "Epoch 7/100\n",
      "\u001b[1m27/27\u001b[0m \u001b[32m━━━━━━━━━━━━━━━━━━━━\u001b[0m\u001b[37m\u001b[0m \u001b[1m0s\u001b[0m 2ms/step - loss: 213303584.0000 - mean_absolute_error: 9459.6963 - val_loss: 179996800.0000 - val_mean_absolute_error: 9004.0410\n",
      "Epoch 8/100\n",
      "\u001b[1m27/27\u001b[0m \u001b[32m━━━━━━━━━━━━━━━━━━━━\u001b[0m\u001b[37m\u001b[0m \u001b[1m0s\u001b[0m 2ms/step - loss: 131545272.0000 - mean_absolute_error: 7997.4229 - val_loss: 163593776.0000 - val_mean_absolute_error: 9805.3115\n",
      "Epoch 9/100\n",
      "\u001b[1m27/27\u001b[0m \u001b[32m━━━━━━━━━━━━━━━━━━━━\u001b[0m\u001b[37m\u001b[0m \u001b[1m0s\u001b[0m 2ms/step - loss: 137676960.0000 - mean_absolute_error: 8938.0869 - val_loss: 161645536.0000 - val_mean_absolute_error: 9617.5146\n",
      "Epoch 10/100\n",
      "\u001b[1m27/27\u001b[0m \u001b[32m━━━━━━━━━━━━━━━━━━━━\u001b[0m\u001b[37m\u001b[0m \u001b[1m0s\u001b[0m 2ms/step - loss: 133074056.0000 - mean_absolute_error: 8589.9561 - val_loss: 161411488.0000 - val_mean_absolute_error: 9461.8047\n",
      "Epoch 11/100\n",
      "\u001b[1m27/27\u001b[0m \u001b[32m━━━━━━━━━━━━━━━━━━━━\u001b[0m\u001b[37m\u001b[0m \u001b[1m0s\u001b[0m 2ms/step - loss: 133146592.0000 - mean_absolute_error: 8472.7520 - val_loss: 160076128.0000 - val_mean_absolute_error: 9620.7246\n",
      "Epoch 12/100\n",
      "\u001b[1m27/27\u001b[0m \u001b[32m━━━━━━━━━━━━━━━━━━━━\u001b[0m\u001b[37m\u001b[0m \u001b[1m0s\u001b[0m 2ms/step - loss: 139268512.0000 - mean_absolute_error: 8867.3955 - val_loss: 160131152.0000 - val_mean_absolute_error: 9538.0547\n",
      "Epoch 13/100\n",
      "\u001b[1m27/27\u001b[0m \u001b[32m━━━━━━━━━━━━━━━━━━━━\u001b[0m\u001b[37m\u001b[0m \u001b[1m0s\u001b[0m 2ms/step - loss: 143419408.0000 - mean_absolute_error: 8803.8203 - val_loss: 160388320.0000 - val_mean_absolute_error: 9481.6074\n",
      "Epoch 14/100\n",
      "\u001b[1m27/27\u001b[0m \u001b[32m━━━━━━━━━━━━━━━━━━━━\u001b[0m\u001b[37m\u001b[0m \u001b[1m0s\u001b[0m 2ms/step - loss: 144757904.0000 - mean_absolute_error: 8853.8936 - val_loss: 159659568.0000 - val_mean_absolute_error: 9587.3730\n",
      "Epoch 15/100\n",
      "\u001b[1m27/27\u001b[0m \u001b[32m━━━━━━━━━━━━━━━━━━━━\u001b[0m\u001b[37m\u001b[0m \u001b[1m0s\u001b[0m 2ms/step - loss: 159702032.0000 - mean_absolute_error: 9377.7119 - val_loss: 160349168.0000 - val_mean_absolute_error: 9461.4131\n",
      "Epoch 16/100\n",
      "\u001b[1m27/27\u001b[0m \u001b[32m━━━━━━━━━━━━━━━━━━━━\u001b[0m\u001b[37m\u001b[0m \u001b[1m0s\u001b[0m 2ms/step - loss: 162818064.0000 - mean_absolute_error: 9228.8984 - val_loss: 160017168.0000 - val_mean_absolute_error: 9499.3086\n",
      "Epoch 17/100\n",
      "\u001b[1m27/27\u001b[0m \u001b[32m━━━━━━━━━━━━━━━━━━━━\u001b[0m\u001b[37m\u001b[0m \u001b[1m0s\u001b[0m 2ms/step - loss: 135769792.0000 - mean_absolute_error: 8688.4570 - val_loss: 160052288.0000 - val_mean_absolute_error: 9490.5898\n",
      "\u001b[1m7/7\u001b[0m \u001b[32m━━━━━━━━━━━━━━━━━━━━\u001b[0m\u001b[37m\u001b[0m \u001b[1m0s\u001b[0m 989us/step - loss: 169847664.0000 - mean_absolute_error: 9841.1572\n",
      "Final model accuracy on validation data: 9587.373046875\n"
     ]
    }
   ],
   "source": [
    "# Hyperparameter tuning. model building and prediction\n",
    "\n",
    "def build_model(hp):\n",
    "\n",
    "    model = Sequential()\n",
    "\n",
    "    # Adding the first hidden layer   \n",
    "    model.add(Dense(units=hp.Int('units1', min_value=10, max_value=100, step=10),\n",
    "                    activation='relu', input_dim=X_train.shape[1]))\n",
    "                    \n",
    "    # Adding consecutive hidden layers and deciding the number of neurons              \n",
    "    for i in range(hp.Int('num_layers', 1, 10)):  \n",
    "        model.add(Dense(units=hp.Int(f'units_{i+2}', min_value=10, max_value=100, step=10),\n",
    "                        activation='relu')) \n",
    "\n",
    "    # Defining the output layer\n",
    "    model.add(Dense(1))\n",
    "\n",
    "    # Selecting the optimizer\n",
    "    optimizer = hp.Choice('optimizer', values=['adam', 'sgd', 'rmsprop'])\n",
    "\n",
    "    model.compile(optimizer=optimizer, loss='mean_squared_error', metrics=['mean_absolute_error'])\n",
    "    \n",
    "    return model\n",
    "\n",
    "# Setup Keras Tuner with Hyperband algorithm\n",
    "tuner = kt.Hyperband(\n",
    "build_model,\n",
    "objective='val_loss',\n",
    "max_epochs=10,  \n",
    "factor=3,  \n",
    "directory='my_dir',  \n",
    "project_name='hyperparameter_tuning')\n",
    "\n",
    "# Run hyperparameter search\n",
    "tuner.search(X_train, Y_train, epochs=10, validation_data=(X_val, Y_val))\n",
    "\n",
    "\n",
    "# Get the best hyperparameters found by the tuner\n",
    "best_hps = tuner.get_best_hyperparameters(num_trials=1)[0]\n",
    "\n",
    "# Print the best hyperparameters\n",
    "print(f\"Number of layers: {best_hps['num_layers']}\")\n",
    "print(f\"Neurons in first hidden layer: {best_hps['units1']}\")\n",
    "for i in range(best_hps['num_layers']):\n",
    "    print(f\"Neurons in layer {i+2}: {best_hps[f'units_{i+2}']}\")\n",
    "print(f\"Optimizer: {best_hps['optimizer']}\")\n",
    "\n",
    "# Build the best model based on found hyperparameters\n",
    "best_model = tuner.hypermodel.build(best_hps)\n",
    "\n",
    "# Adding early_stopping\n",
    "early_stopping = EarlyStopping(monitor='val_loss',  # Monitor the validation loss\n",
    "                               patience=3,  # Number of epochs to wait for improvement\n",
    "                               restore_best_weights=True)\n",
    "\n",
    "# Train the best model\n",
    "best_model.fit(X_train, Y_train, epochs = 100, validation_data=(X_val, Y_val), callbacks=early_stopping)\n",
    "\n",
    "# 16. Evaluate the best model\n",
    "loss, accuracy = best_model.evaluate(X_val, Y_val)\n",
    "print(f\"Final model accuracy on validation data: {accuracy}\")\n"
   ]
  },
  {
   "cell_type": "code",
   "execution_count": null,
   "metadata": {},
   "outputs": [],
   "source": []
  },
  {
   "cell_type": "code",
   "execution_count": null,
   "metadata": {},
   "outputs": [],
   "source": []
  },
  {
   "cell_type": "code",
   "execution_count": null,
   "metadata": {},
   "outputs": [],
   "source": []
  },
  {
   "cell_type": "code",
   "execution_count": null,
   "metadata": {},
   "outputs": [],
   "source": []
  },
  {
   "cell_type": "code",
   "execution_count": null,
   "metadata": {},
   "outputs": [],
   "source": []
  },
  {
   "cell_type": "code",
   "execution_count": null,
   "metadata": {},
   "outputs": [],
   "source": []
  },
  {
   "cell_type": "code",
   "execution_count": null,
   "metadata": {},
   "outputs": [],
   "source": []
  },
  {
   "cell_type": "code",
   "execution_count": null,
   "metadata": {},
   "outputs": [],
   "source": []
  },
  {
   "cell_type": "code",
   "execution_count": null,
   "metadata": {},
   "outputs": [],
   "source": []
  },
  {
   "cell_type": "code",
   "execution_count": null,
   "metadata": {},
   "outputs": [],
   "source": []
  },
  {
   "cell_type": "code",
   "execution_count": null,
   "metadata": {},
   "outputs": [],
   "source": []
  },
  {
   "cell_type": "code",
   "execution_count": null,
   "metadata": {},
   "outputs": [],
   "source": []
  }
 ],
 "metadata": {
  "kernelspec": {
   "display_name": "Python 3",
   "language": "python",
   "name": "python3"
  },
  "language_info": {
   "codemirror_mode": {
    "name": "ipython",
    "version": 3
   },
   "file_extension": ".py",
   "mimetype": "text/x-python",
   "name": "python",
   "nbconvert_exporter": "python",
   "pygments_lexer": "ipython3",
   "version": "3.9.18"
  }
 },
 "nbformat": 4,
 "nbformat_minor": 2
}
