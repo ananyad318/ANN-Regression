{
 "cells": [
  {
   "cell_type": "code",
   "execution_count": 17,
   "metadata": {},
   "outputs": [],
   "source": [
    "import pandas as pd\n",
    "from sklearn.preprocessing import LabelEncoder,OneHotEncoder, StandardScaler\n",
    "from sklearn.model_selection import train_test_split\n",
    "import pickle"
   ]
  },
  {
   "cell_type": "code",
   "execution_count": 18,
   "metadata": {},
   "outputs": [
    {
     "data": {
      "text/html": [
       "<div>\n",
       "<style scoped>\n",
       "    .dataframe tbody tr th:only-of-type {\n",
       "        vertical-align: middle;\n",
       "    }\n",
       "\n",
       "    .dataframe tbody tr th {\n",
       "        vertical-align: top;\n",
       "    }\n",
       "\n",
       "    .dataframe thead th {\n",
       "        text-align: right;\n",
       "    }\n",
       "</style>\n",
       "<table border=\"1\" class=\"dataframe\">\n",
       "  <thead>\n",
       "    <tr style=\"text-align: right;\">\n",
       "      <th></th>\n",
       "      <th>age</th>\n",
       "      <th>sex</th>\n",
       "      <th>bmi</th>\n",
       "      <th>children</th>\n",
       "      <th>smoker</th>\n",
       "      <th>region</th>\n",
       "      <th>charges</th>\n",
       "    </tr>\n",
       "  </thead>\n",
       "  <tbody>\n",
       "    <tr>\n",
       "      <th>0</th>\n",
       "      <td>19</td>\n",
       "      <td>female</td>\n",
       "      <td>27.90</td>\n",
       "      <td>0</td>\n",
       "      <td>yes</td>\n",
       "      <td>southwest</td>\n",
       "      <td>16884.9240</td>\n",
       "    </tr>\n",
       "    <tr>\n",
       "      <th>1</th>\n",
       "      <td>18</td>\n",
       "      <td>male</td>\n",
       "      <td>33.77</td>\n",
       "      <td>1</td>\n",
       "      <td>no</td>\n",
       "      <td>southeast</td>\n",
       "      <td>1725.5523</td>\n",
       "    </tr>\n",
       "  </tbody>\n",
       "</table>\n",
       "</div>"
      ],
      "text/plain": [
       "   age     sex    bmi  children smoker     region     charges\n",
       "0   19  female  27.90         0    yes  southwest  16884.9240\n",
       "1   18    male  33.77         1     no  southeast   1725.5523"
      ]
     },
     "execution_count": 18,
     "metadata": {},
     "output_type": "execute_result"
    }
   ],
   "source": [
    "# Read the DataFrame\n",
    "df = pd.read_csv('insurance.csv')\n",
    "df.head(2)\n"
   ]
  },
  {
   "cell_type": "code",
   "execution_count": 19,
   "metadata": {},
   "outputs": [],
   "source": [
    "# Divide into X and Y variables\n",
    "\n",
    "X = df.drop('charges',axis = 1)\n",
    "Y = df[['charges']]"
   ]
  },
  {
   "cell_type": "code",
   "execution_count": 20,
   "metadata": {},
   "outputs": [],
   "source": [
    "# Train and Test Split\n",
    "\n",
    "X_train_full, X_test, Y_train_full, Y_test = train_test_split(X, Y, test_size=0.2, random_state=42)\n",
    "X_train, X_val, Y_train, Y_val = train_test_split(X_train_full, Y_train_full, test_size=0.2, random_state = 42)\n"
   ]
  },
  {
   "cell_type": "code",
   "execution_count": 21,
   "metadata": {},
   "outputs": [],
   "source": [
    "# Feature Engineering\n",
    "\n",
    "label_sex = LabelEncoder()\n",
    "label_smoke = LabelEncoder()\n",
    "onehot_region = OneHotEncoder(sparse_output=False)\n",
    "\n",
    "X_train['sex'] = label_sex.fit_transform(X_train['sex']) # Label Encoding\n",
    "X_val['sex'] = label_sex.transform(X_val['sex'])\n",
    "\n",
    "X_train['smoker'] = label_smoke.fit_transform(X_train['smoker'])  # Label Encoding\n",
    "X_val['smoker'] = label_smoke.transform(X_val['smoker'])\n",
    "\n",
    "\n",
    "X_train_trans = onehot_region.fit_transform(X_train[['region']])  # One Hot Encoding\n",
    "X_val_trans = onehot_region.transform(X_val[['region']])\n",
    "col_names = onehot_region.get_feature_names_out()\n",
    "encoded_df_test = pd.DataFrame(X_train_trans,columns = col_names )\n",
    "encoded_df_val = pd.DataFrame(X_val_trans,columns = col_names )\n",
    "\n"
   ]
  },
  {
   "cell_type": "code",
   "execution_count": 22,
   "metadata": {},
   "outputs": [],
   "source": [
    "# Drop the region column\n",
    "\n",
    "X_train = X_train.drop('region',axis = 1)\n",
    "X_val = X_val.drop('region',axis = 1)"
   ]
  },
  {
   "cell_type": "code",
   "execution_count": 23,
   "metadata": {},
   "outputs": [],
   "source": [
    "# Concat the one hot encoded columns\n",
    "\n",
    "X_train = pd.concat([encoded_df_test],axis = 1)\n",
    "X_val = pd.concat([encoded_df_val],axis = 1)"
   ]
  },
  {
   "cell_type": "code",
   "execution_count": 24,
   "metadata": {},
   "outputs": [],
   "source": [
    "# Scaling\n",
    "\n",
    "scalar = StandardScaler()\n",
    "X_train = scalar.fit_transform(X_train)\n",
    "X_val = scalar.transform(X_val)"
   ]
  },
  {
   "cell_type": "code",
   "execution_count": 25,
   "metadata": {},
   "outputs": [],
   "source": [
    "# Save in Pickle file\n",
    "\n",
    "with open('label_encoder_sex.pkl','wb') as file:\n",
    "    pickle.dump(label_sex,file)\n",
    "\n",
    "with open('label_encoder_smoke.pkl','wb') as file:\n",
    "    pickle.dump(label_smoke,file)    \n",
    "\n",
    "with open('onehot_region.pkl','wb') as file:\n",
    "    pickle.dump(onehot_region,file)  \n",
    "\n",
    "with open('scalar.pkl','wb') as file:\n",
    "    pickle.dump(scalar,file)         "
   ]
  },
  {
   "cell_type": "code",
   "execution_count": 26,
   "metadata": {},
   "outputs": [],
   "source": [
    "from tensorflow.keras.callbacks import EarlyStopping\n",
    "import tensorflow as tf\n",
    "from tensorflow.keras import Sequential\n",
    "from tensorflow.keras.layers import Dense\n",
    "from tensorflow.keras.optimizers import Adam, SGD, RMSprop\n",
    "import keras_tuner as kt"
   ]
  },
  {
   "cell_type": "code",
   "execution_count": 27,
   "metadata": {},
   "outputs": [
    {
     "name": "stdout",
     "output_type": "stream",
     "text": [
      "Reloading Tuner from my_dir/hyperparameter_tuning/tuner0.json\n",
      "Number of layers: 4\n",
      "Neurons in first hidden layer: 10\n",
      "Neurons in layer 2: 40\n",
      "Neurons in layer 3: 20\n",
      "Neurons in layer 4: 40\n",
      "Neurons in layer 5: 20\n",
      "Optimizer: adam\n",
      "Epoch 1/100\n"
     ]
    },
    {
     "name": "stderr",
     "output_type": "stream",
     "text": [
      "/workspaces/ANN-Regression/venv/lib/python3.9/site-packages/keras/src/layers/core/dense.py:87: UserWarning: Do not pass an `input_shape`/`input_dim` argument to a layer. When using Sequential models, prefer using an `Input(shape)` object as the first layer in the model instead.\n",
      "  super().__init__(activity_regularizer=activity_regularizer, **kwargs)\n"
     ]
    },
    {
     "name": "stdout",
     "output_type": "stream",
     "text": [
      "\u001b[1m27/27\u001b[0m \u001b[32m━━━━━━━━━━━━━━━━━━━━\u001b[0m\u001b[37m\u001b[0m \u001b[1m1s\u001b[0m 6ms/step - loss: 317665472.0000 - mean_absolute_error: 13239.7021 - val_loss: 355155616.0000 - val_mean_absolute_error: 13986.1084\n",
      "Epoch 2/100\n",
      "\u001b[1m27/27\u001b[0m \u001b[32m━━━━━━━━━━━━━━━━━━━━\u001b[0m\u001b[37m\u001b[0m \u001b[1m0s\u001b[0m 2ms/step - loss: 322419168.0000 - mean_absolute_error: 13348.1709 - val_loss: 354867296.0000 - val_mean_absolute_error: 13975.7754\n",
      "Epoch 3/100\n",
      "\u001b[1m27/27\u001b[0m \u001b[32m━━━━━━━━━━━━━━━━━━━━\u001b[0m\u001b[37m\u001b[0m \u001b[1m0s\u001b[0m 2ms/step - loss: 303021760.0000 - mean_absolute_error: 13029.4863 - val_loss: 353472448.0000 - val_mean_absolute_error: 13925.7910\n",
      "Epoch 4/100\n",
      "\u001b[1m27/27\u001b[0m \u001b[32m━━━━━━━━━━━━━━━━━━━━\u001b[0m\u001b[37m\u001b[0m \u001b[1m0s\u001b[0m 2ms/step - loss: 307962976.0000 - mean_absolute_error: 13067.2861 - val_loss: 347197216.0000 - val_mean_absolute_error: 13698.8018\n",
      "Epoch 5/100\n",
      "\u001b[1m27/27\u001b[0m \u001b[32m━━━━━━━━━━━━━━━━━━━━\u001b[0m\u001b[37m\u001b[0m \u001b[1m0s\u001b[0m 2ms/step - loss: 339502272.0000 - mean_absolute_error: 13655.4629 - val_loss: 324553408.0000 - val_mean_absolute_error: 12845.7383\n",
      "Epoch 6/100\n",
      "\u001b[1m27/27\u001b[0m \u001b[32m━━━━━━━━━━━━━━━━━━━━\u001b[0m\u001b[37m\u001b[0m \u001b[1m0s\u001b[0m 2ms/step - loss: 240282592.0000 - mean_absolute_error: 10773.5439 - val_loss: 265724512.0000 - val_mean_absolute_error: 10779.5322\n",
      "Epoch 7/100\n",
      "\u001b[1m27/27\u001b[0m \u001b[32m━━━━━━━━━━━━━━━━━━━━\u001b[0m\u001b[37m\u001b[0m \u001b[1m0s\u001b[0m 3ms/step - loss: 235394112.0000 - mean_absolute_error: 9929.4941 - val_loss: 184365776.0000 - val_mean_absolute_error: 8997.0693\n",
      "Epoch 8/100\n",
      "\u001b[1m27/27\u001b[0m \u001b[32m━━━━━━━━━━━━━━━━━━━━\u001b[0m\u001b[37m\u001b[0m \u001b[1m0s\u001b[0m 2ms/step - loss: 174872768.0000 - mean_absolute_error: 9070.5645 - val_loss: 163528880.0000 - val_mean_absolute_error: 9817.4453\n",
      "Epoch 9/100\n",
      "\u001b[1m27/27\u001b[0m \u001b[32m━━━━━━━━━━━━━━━━━━━━\u001b[0m\u001b[37m\u001b[0m \u001b[1m0s\u001b[0m 2ms/step - loss: 138872224.0000 - mean_absolute_error: 8768.9414 - val_loss: 162762944.0000 - val_mean_absolute_error: 9529.7275\n",
      "Epoch 10/100\n",
      "\u001b[1m27/27\u001b[0m \u001b[32m━━━━━━━━━━━━━━━━━━━━\u001b[0m\u001b[37m\u001b[0m \u001b[1m0s\u001b[0m 2ms/step - loss: 147970112.0000 - mean_absolute_error: 8940.2100 - val_loss: 161283968.0000 - val_mean_absolute_error: 9611.7998\n",
      "Epoch 11/100\n",
      "\u001b[1m27/27\u001b[0m \u001b[32m━━━━━━━━━━━━━━━━━━━━\u001b[0m\u001b[37m\u001b[0m \u001b[1m0s\u001b[0m 2ms/step - loss: 157537584.0000 - mean_absolute_error: 9197.2051 - val_loss: 161675152.0000 - val_mean_absolute_error: 9444.4951\n",
      "Epoch 12/100\n",
      "\u001b[1m27/27\u001b[0m \u001b[32m━━━━━━━━━━━━━━━━━━━━\u001b[0m\u001b[37m\u001b[0m \u001b[1m0s\u001b[0m 2ms/step - loss: 141950208.0000 - mean_absolute_error: 8661.8232 - val_loss: 160734032.0000 - val_mean_absolute_error: 9547.7119\n",
      "Epoch 13/100\n",
      "\u001b[1m27/27\u001b[0m \u001b[32m━━━━━━━━━━━━━━━━━━━━\u001b[0m\u001b[37m\u001b[0m \u001b[1m0s\u001b[0m 2ms/step - loss: 137293904.0000 - mean_absolute_error: 8692.3457 - val_loss: 160220176.0000 - val_mean_absolute_error: 9590.5166\n",
      "Epoch 14/100\n",
      "\u001b[1m27/27\u001b[0m \u001b[32m━━━━━━━━━━━━━━━━━━━━\u001b[0m\u001b[37m\u001b[0m \u001b[1m0s\u001b[0m 2ms/step - loss: 136956928.0000 - mean_absolute_error: 8754.0791 - val_loss: 160103984.0000 - val_mean_absolute_error: 9587.6436\n",
      "Epoch 15/100\n",
      "\u001b[1m27/27\u001b[0m \u001b[32m━━━━━━━━━━━━━━━━━━━━\u001b[0m\u001b[37m\u001b[0m \u001b[1m0s\u001b[0m 3ms/step - loss: 134320464.0000 - mean_absolute_error: 8695.3613 - val_loss: 160039136.0000 - val_mean_absolute_error: 9553.0605\n",
      "Epoch 16/100\n",
      "\u001b[1m27/27\u001b[0m \u001b[32m━━━━━━━━━━━━━━━━━━━━\u001b[0m\u001b[37m\u001b[0m \u001b[1m0s\u001b[0m 2ms/step - loss: 147829904.0000 - mean_absolute_error: 9001.0430 - val_loss: 160048528.0000 - val_mean_absolute_error: 9524.8867\n",
      "Epoch 17/100\n",
      "\u001b[1m27/27\u001b[0m \u001b[32m━━━━━━━━━━━━━━━━━━━━\u001b[0m\u001b[37m\u001b[0m \u001b[1m0s\u001b[0m 3ms/step - loss: 152082912.0000 - mean_absolute_error: 9009.5811 - val_loss: 160258704.0000 - val_mean_absolute_error: 9459.1660\n",
      "Epoch 18/100\n",
      "\u001b[1m27/27\u001b[0m \u001b[32m━━━━━━━━━━━━━━━━━━━━\u001b[0m\u001b[37m\u001b[0m \u001b[1m0s\u001b[0m 2ms/step - loss: 140731664.0000 - mean_absolute_error: 8810.3379 - val_loss: 159960880.0000 - val_mean_absolute_error: 9522.4844\n",
      "Epoch 19/100\n",
      "\u001b[1m27/27\u001b[0m \u001b[32m━━━━━━━━━━━━━━━━━━━━\u001b[0m\u001b[37m\u001b[0m \u001b[1m0s\u001b[0m 2ms/step - loss: 137210816.0000 - mean_absolute_error: 8794.3906 - val_loss: 159789472.0000 - val_mean_absolute_error: 9513.2090\n",
      "Epoch 20/100\n",
      "\u001b[1m27/27\u001b[0m \u001b[32m━━━━━━━━━━━━━━━━━━━━\u001b[0m\u001b[37m\u001b[0m \u001b[1m0s\u001b[0m 2ms/step - loss: 139560544.0000 - mean_absolute_error: 8614.7334 - val_loss: 159820784.0000 - val_mean_absolute_error: 9518.3408\n",
      "Epoch 21/100\n",
      "\u001b[1m27/27\u001b[0m \u001b[32m━━━━━━━━━━━━━━━━━━━━\u001b[0m\u001b[37m\u001b[0m \u001b[1m0s\u001b[0m 3ms/step - loss: 145038976.0000 - mean_absolute_error: 8911.7148 - val_loss: 159569120.0000 - val_mean_absolute_error: 9557.0469\n",
      "Epoch 22/100\n",
      "\u001b[1m27/27\u001b[0m \u001b[32m━━━━━━━━━━━━━━━━━━━━\u001b[0m\u001b[37m\u001b[0m \u001b[1m0s\u001b[0m 3ms/step - loss: 154960368.0000 - mean_absolute_error: 9092.8408 - val_loss: 160100464.0000 - val_mean_absolute_error: 9486.5684\n",
      "Epoch 23/100\n",
      "\u001b[1m27/27\u001b[0m \u001b[32m━━━━━━━━━━━━━━━━━━━━\u001b[0m\u001b[37m\u001b[0m \u001b[1m0s\u001b[0m 2ms/step - loss: 144903904.0000 - mean_absolute_error: 8813.2529 - val_loss: 159799344.0000 - val_mean_absolute_error: 9514.0303\n",
      "Epoch 24/100\n",
      "\u001b[1m27/27\u001b[0m \u001b[32m━━━━━━━━━━━━━━━━━━━━\u001b[0m\u001b[37m\u001b[0m \u001b[1m0s\u001b[0m 3ms/step - loss: 146099072.0000 - mean_absolute_error: 8942.3936 - val_loss: 159694144.0000 - val_mean_absolute_error: 9522.0703\n",
      "Epoch 25/100\n",
      "\u001b[1m27/27\u001b[0m \u001b[32m━━━━━━━━━━━━━━━━━━━━\u001b[0m\u001b[37m\u001b[0m \u001b[1m0s\u001b[0m 2ms/step - loss: 142296944.0000 - mean_absolute_error: 8830.2373 - val_loss: 159734304.0000 - val_mean_absolute_error: 9525.2490\n",
      "Epoch 26/100\n",
      "\u001b[1m27/27\u001b[0m \u001b[32m━━━━━━━━━━━━━━━━━━━━\u001b[0m\u001b[37m\u001b[0m \u001b[1m0s\u001b[0m 3ms/step - loss: 142982368.0000 - mean_absolute_error: 8927.3496 - val_loss: 159970720.0000 - val_mean_absolute_error: 9488.3076\n",
      "\u001b[1m7/7\u001b[0m \u001b[32m━━━━━━━━━━━━━━━━━━━━\u001b[0m\u001b[37m\u001b[0m \u001b[1m0s\u001b[0m 2ms/step - loss: 169608288.0000 - mean_absolute_error: 9800.4805\n",
      "Final model accuracy on validation data: 9557.046875\n"
     ]
    }
   ],
   "source": [
    "# Hyperparameter tuning, model building, training\n",
    "\n",
    "def build_model(hp):\n",
    "\n",
    "    model = Sequential()\n",
    "\n",
    "    # Adding the first hidden layer   \n",
    "    model.add(Dense(units=hp.Int('units1', min_value=10, max_value=100, step=10),\n",
    "                    activation='relu', input_dim=X_train.shape[1]))\n",
    "                    \n",
    "    # Adding consecutive hidden layers and deciding the number of neurons              \n",
    "    for i in range(hp.Int('num_layers', 1, 8)):  \n",
    "        model.add(Dense(units=hp.Int(f'units_{i+2}', min_value=10, max_value=100, step=10),\n",
    "                        activation='relu')) \n",
    "\n",
    "    # Defining the output layer\n",
    "    model.add(Dense(1))\n",
    "\n",
    "    # Selecting the optimizer\n",
    "    optimizer = hp.Choice('optimizer', values=['adam', 'sgd', 'rmsprop'])\n",
    "\n",
    "    model.compile(optimizer=optimizer, loss='mean_squared_error', metrics=['mean_absolute_error'])\n",
    "    \n",
    "    return model\n",
    "\n",
    "# Setup Keras Tuner with Hyperband algorithm\n",
    "tuner = kt.Hyperband(\n",
    "build_model,\n",
    "objective='val_loss',\n",
    "max_epochs=10,  \n",
    "factor=3,  \n",
    "directory='my_dir',  \n",
    "project_name='hyperparameter_tuning')\n",
    "\n",
    "# Run hyperparameter search\n",
    "tuner.search(X_train, Y_train, epochs=10, validation_data=(X_val, Y_val))\n",
    "\n",
    "\n",
    "# Get the best hyperparameters found by the tuner\n",
    "best_hps = tuner.get_best_hyperparameters(num_trials=1)[0]\n",
    "\n",
    "# Print the best hyperparameters\n",
    "print(f\"Number of layers: {best_hps['num_layers']}\")\n",
    "print(f\"Neurons in first hidden layer: {best_hps['units1']}\")\n",
    "for i in range(best_hps['num_layers']):\n",
    "    print(f\"Neurons in layer {i+2}: {best_hps[f'units_{i+2}']}\")\n",
    "print(f\"Optimizer: {best_hps['optimizer']}\")\n",
    "\n",
    "# Build the best model based on found hyperparameters\n",
    "best_model = tuner.hypermodel.build(best_hps)\n",
    "\n",
    "# Adding early_stopping\n",
    "early_stopping = EarlyStopping(monitor='val_loss',  # Monitor the validation loss\n",
    "                               patience=5,  # Number of epochs to wait for improvement\n",
    "                               restore_best_weights=True)\n",
    "\n",
    "# Train the best model\n",
    "best_model.fit(X_train, Y_train, epochs = 100, validation_data=(X_val, Y_val), callbacks=early_stopping)\n",
    "\n",
    "# Evaluate the best model\n",
    "loss, accuracy = best_model.evaluate(X_val, Y_val)\n",
    "print(f\"Final model accuracy on validation data: {accuracy}\")\n"
   ]
  },
  {
   "cell_type": "code",
   "execution_count": 28,
   "metadata": {},
   "outputs": [],
   "source": [
    "X_test.to_csv('X_test',index=False, header=True)"
   ]
  },
  {
   "cell_type": "code",
   "execution_count": 29,
   "metadata": {},
   "outputs": [],
   "source": [
    "Y_test.to_csv('Y_test',index=False, header=True)"
   ]
  },
  {
   "cell_type": "code",
   "execution_count": 32,
   "metadata": {},
   "outputs": [
    {
     "name": "stderr",
     "output_type": "stream",
     "text": [
      "WARNING:absl:You are saving your model as an HDF5 file via `model.save()` or `keras.saving.save_model(model)`. This file format is considered legacy. We recommend using instead the native Keras format, e.g. `model.save('my_model.keras')` or `keras.saving.save_model(model, 'my_model.keras')`. \n"
     ]
    }
   ],
   "source": [
    "best_model.save('model.h5')"
   ]
  }
 ],
 "metadata": {
  "kernelspec": {
   "display_name": "Python 3",
   "language": "python",
   "name": "python3"
  },
  "language_info": {
   "codemirror_mode": {
    "name": "ipython",
    "version": 3
   },
   "file_extension": ".py",
   "mimetype": "text/x-python",
   "name": "python",
   "nbconvert_exporter": "python",
   "pygments_lexer": "ipython3",
   "version": "3.9.18"
  }
 },
 "nbformat": 4,
 "nbformat_minor": 2
}
