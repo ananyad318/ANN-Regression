{
 "cells": [
  {
   "cell_type": "code",
   "execution_count": 1,
   "metadata": {},
   "outputs": [],
   "source": [
    "import pandas as pd\n",
    "from sklearn.preprocessing import LabelEncoder,OneHotEncoder, StandardScaler\n",
    "from sklearn.model_selection import train_test_split\n",
    "import pickle"
   ]
  },
  {
   "cell_type": "code",
   "execution_count": 2,
   "metadata": {},
   "outputs": [
    {
     "data": {
      "text/html": [
       "<div>\n",
       "<style scoped>\n",
       "    .dataframe tbody tr th:only-of-type {\n",
       "        vertical-align: middle;\n",
       "    }\n",
       "\n",
       "    .dataframe tbody tr th {\n",
       "        vertical-align: top;\n",
       "    }\n",
       "\n",
       "    .dataframe thead th {\n",
       "        text-align: right;\n",
       "    }\n",
       "</style>\n",
       "<table border=\"1\" class=\"dataframe\">\n",
       "  <thead>\n",
       "    <tr style=\"text-align: right;\">\n",
       "      <th></th>\n",
       "      <th>age</th>\n",
       "      <th>sex</th>\n",
       "      <th>bmi</th>\n",
       "      <th>children</th>\n",
       "      <th>smoker</th>\n",
       "      <th>region</th>\n",
       "      <th>charges</th>\n",
       "    </tr>\n",
       "  </thead>\n",
       "  <tbody>\n",
       "    <tr>\n",
       "      <th>0</th>\n",
       "      <td>19</td>\n",
       "      <td>female</td>\n",
       "      <td>27.90</td>\n",
       "      <td>0</td>\n",
       "      <td>yes</td>\n",
       "      <td>southwest</td>\n",
       "      <td>16884.9240</td>\n",
       "    </tr>\n",
       "    <tr>\n",
       "      <th>1</th>\n",
       "      <td>18</td>\n",
       "      <td>male</td>\n",
       "      <td>33.77</td>\n",
       "      <td>1</td>\n",
       "      <td>no</td>\n",
       "      <td>southeast</td>\n",
       "      <td>1725.5523</td>\n",
       "    </tr>\n",
       "  </tbody>\n",
       "</table>\n",
       "</div>"
      ],
      "text/plain": [
       "   age     sex    bmi  children smoker     region     charges\n",
       "0   19  female  27.90         0    yes  southwest  16884.9240\n",
       "1   18    male  33.77         1     no  southeast   1725.5523"
      ]
     },
     "execution_count": 2,
     "metadata": {},
     "output_type": "execute_result"
    }
   ],
   "source": [
    "# Read the DataFrame\n",
    "df = pd.read_csv('insurance.csv')\n",
    "df.head(2)\n"
   ]
  },
  {
   "cell_type": "code",
   "execution_count": 3,
   "metadata": {},
   "outputs": [],
   "source": [
    "# Divide into X and Y variables\n",
    "X = df.drop('charges',axis = 1)\n",
    "Y = df[['charges']]"
   ]
  },
  {
   "cell_type": "code",
   "execution_count": 4,
   "metadata": {},
   "outputs": [],
   "source": [
    "# Train and Test Split\n",
    "X_train_full, X_test, Y_train_full, Y_test = train_test_split(X, Y, test_size=0.2, random_state=42)\n",
    "X_train, X_val, Y_train, Y_val = train_test_split(X_train_full, Y_train_full, test_size=0.2, random_state = 42)\n"
   ]
  },
  {
   "cell_type": "code",
   "execution_count": 5,
   "metadata": {},
   "outputs": [],
   "source": [
    "# Feature Engineering\n",
    "label_sex = LabelEncoder()\n",
    "label_smoke = LabelEncoder()\n",
    "onehot_region = OneHotEncoder(sparse_output=False)\n",
    "\n",
    "X_train['sex'] = label_sex.fit_transform(X_train['sex']) # Label Encoding\n",
    "X_val['sex'] = label_sex.transform(X_val['sex'])\n",
    "\n",
    "X_train['smoker'] = label_smoke.fit_transform(X_train['smoker'])  # Label Encoding\n",
    "X_val['smoker'] = label_smoke.transform(X_val['smoker'])\n",
    "\n",
    "\n",
    "X_train_trans = onehot_region.fit_transform(X_train[['region']])  # One Hot Encoding\n",
    "X_val_trans = onehot_region.transform(X_val[['region']])\n",
    "col_names = onehot_region.get_feature_names_out()\n",
    "\n",
    "# Convert Dataframe and Reset index\n",
    "encoded_df_test = pd.DataFrame(X_train_trans, columns=col_names).reset_index(drop=True)\n",
    "encoded_df_val = pd.DataFrame(X_val_trans, columns=col_names).reset_index(drop=True)\n",
    "X_train = X_train.reset_index(drop=True)\n",
    "X_val = X_val.reset_index(drop=True)"
   ]
  },
  {
   "cell_type": "code",
   "execution_count": 6,
   "metadata": {},
   "outputs": [],
   "source": [
    "# Drop the region column\n",
    "X_train = X_train.drop('region',axis = 1)\n",
    "X_val = X_val.drop('region',axis = 1)"
   ]
  },
  {
   "cell_type": "code",
   "execution_count": 7,
   "metadata": {},
   "outputs": [],
   "source": [
    "# Concat the one hot encoded columns\n",
    "X_train = pd.concat([X_train, encoded_df_test], axis=1)\n",
    "X_val = pd.concat([X_val, encoded_df_val], axis=1)"
   ]
  },
  {
   "cell_type": "code",
   "execution_count": 8,
   "metadata": {},
   "outputs": [],
   "source": [
    "# Scaling\n",
    "scalar = StandardScaler()\n",
    "X_train = scalar.fit_transform(X_train)\n",
    "X_val = scalar.transform(X_val)"
   ]
  },
  {
   "cell_type": "code",
   "execution_count": 9,
   "metadata": {},
   "outputs": [],
   "source": [
    "# Save in Pickle file\n",
    "with open('label_encoder_sex.pkl','wb') as file:\n",
    "    pickle.dump(label_sex,file)\n",
    "\n",
    "with open('label_encoder_smoke.pkl','wb') as file:\n",
    "    pickle.dump(label_smoke,file)    \n",
    "\n",
    "with open('onehot_region.pkl','wb') as file:\n",
    "    pickle.dump(onehot_region,file)  \n",
    "\n",
    "with open('scalar.pkl','wb') as file:\n",
    "    pickle.dump(scalar,file)         "
   ]
  },
  {
   "cell_type": "code",
   "execution_count": 10,
   "metadata": {},
   "outputs": [
    {
     "name": "stderr",
     "output_type": "stream",
     "text": [
      "2024-11-17 16:34:19.829943: I external/local_xla/xla/tsl/cuda/cudart_stub.cc:32] Could not find cuda drivers on your machine, GPU will not be used.\n",
      "2024-11-17 16:34:19.835968: I external/local_xla/xla/tsl/cuda/cudart_stub.cc:32] Could not find cuda drivers on your machine, GPU will not be used.\n",
      "2024-11-17 16:34:19.850905: E external/local_xla/xla/stream_executor/cuda/cuda_fft.cc:477] Unable to register cuFFT factory: Attempting to register factory for plugin cuFFT when one has already been registered\n",
      "WARNING: All log messages before absl::InitializeLog() is called are written to STDERR\n",
      "E0000 00:00:1731861259.876778    3429 cuda_dnn.cc:8310] Unable to register cuDNN factory: Attempting to register factory for plugin cuDNN when one has already been registered\n",
      "E0000 00:00:1731861259.888484    3429 cuda_blas.cc:1418] Unable to register cuBLAS factory: Attempting to register factory for plugin cuBLAS when one has already been registered\n",
      "2024-11-17 16:34:19.921096: I tensorflow/core/platform/cpu_feature_guard.cc:210] This TensorFlow binary is optimized to use available CPU instructions in performance-critical operations.\n",
      "To enable the following instructions: AVX2 FMA, in other operations, rebuild TensorFlow with the appropriate compiler flags.\n"
     ]
    }
   ],
   "source": [
    "from tensorflow.keras.callbacks import EarlyStopping\n",
    "import tensorflow as tf\n",
    "from tensorflow.keras import Sequential\n",
    "from tensorflow.keras.layers import Dense\n",
    "from tensorflow.keras.optimizers import Adam, SGD, RMSprop\n",
    "import keras_tuner as kt"
   ]
  },
  {
   "cell_type": "code",
   "execution_count": null,
   "metadata": {},
   "outputs": [
    {
     "name": "stdout",
     "output_type": "stream",
     "text": [
      "Reloading Tuner from my_dir/hyperparameter_tuning/tuner0.json\n",
      "Number of layers: 4\n",
      "Neurons in first hidden layer: 10\n",
      "Neurons in layer 2: 40\n",
      "Neurons in layer 3: 20\n",
      "Neurons in layer 4: 40\n",
      "Neurons in layer 5: 20\n",
      "Optimizer: adam\n"
     ]
    },
    {
     "name": "stderr",
     "output_type": "stream",
     "text": [
      "/workspaces/ANN-Regression/venv/lib/python3.9/site-packages/keras/src/layers/core/dense.py:87: UserWarning: Do not pass an `input_shape`/`input_dim` argument to a layer. When using Sequential models, prefer using an `Input(shape)` object as the first layer in the model instead.\n",
      "  super().__init__(activity_regularizer=activity_regularizer, **kwargs)\n",
      "2024-11-17 16:34:31.377589: E external/local_xla/xla/stream_executor/cuda/cuda_driver.cc:152] failed call to cuInit: INTERNAL: CUDA error: Failed call to cuInit: UNKNOWN ERROR (303)\n"
     ]
    },
    {
     "name": "stdout",
     "output_type": "stream",
     "text": [
      "Epoch 1/100\n",
      "\u001b[1m27/27\u001b[0m \u001b[32m━━━━━━━━━━━━━━━━━━━━\u001b[0m\u001b[37m\u001b[0m \u001b[1m3s\u001b[0m 10ms/step - loss: 291419552.0000 - mean_absolute_error: 12841.6699 - val_loss: 355187328.0000 - val_mean_absolute_error: 13987.3428\n",
      "Epoch 2/100\n",
      "\u001b[1m27/27\u001b[0m \u001b[32m━━━━━━━━━━━━━━━━━━━━\u001b[0m\u001b[37m\u001b[0m \u001b[1m0s\u001b[0m 3ms/step - loss: 283122912.0000 - mean_absolute_error: 12635.4219 - val_loss: 355034624.0000 - val_mean_absolute_error: 13982.4346\n",
      "Epoch 3/100\n",
      "\u001b[1m27/27\u001b[0m \u001b[32m━━━━━━━━━━━━━━━━━━━━\u001b[0m\u001b[37m\u001b[0m \u001b[1m0s\u001b[0m 3ms/step - loss: 346318304.0000 - mean_absolute_error: 13982.0586 - val_loss: 353937056.0000 - val_mean_absolute_error: 13948.0068\n",
      "Epoch 4/100\n",
      "\u001b[1m27/27\u001b[0m \u001b[32m━━━━━━━━━━━━━━━━━━━━\u001b[0m\u001b[37m\u001b[0m \u001b[1m0s\u001b[0m 3ms/step - loss: 322727328.0000 - mean_absolute_error: 13386.5010 - val_loss: 347648416.0000 - val_mean_absolute_error: 13753.6689\n",
      "Epoch 5/100\n",
      "\u001b[1m27/27\u001b[0m \u001b[32m━━━━━━━━━━━━━━━━━━━━\u001b[0m\u001b[37m\u001b[0m \u001b[1m0s\u001b[0m 3ms/step - loss: 327258944.0000 - mean_absolute_error: 13440.0400 - val_loss: 321332224.0000 - val_mean_absolute_error: 12935.1562\n",
      "Epoch 6/100\n",
      "\u001b[1m27/27\u001b[0m \u001b[32m━━━━━━━━━━━━━━━━━━━━\u001b[0m\u001b[37m\u001b[0m \u001b[1m0s\u001b[0m 3ms/step - loss: 263696560.0000 - mean_absolute_error: 11538.7314 - val_loss: 244903936.0000 - val_mean_absolute_error: 10633.4629\n",
      "Epoch 7/100\n",
      "\u001b[1m27/27\u001b[0m \u001b[32m━━━━━━━━━━━━━━━━━━━━\u001b[0m\u001b[37m\u001b[0m \u001b[1m0s\u001b[0m 3ms/step - loss: 195394400.0000 - mean_absolute_error: 9204.7676 - val_loss: 124874648.0000 - val_mean_absolute_error: 7619.3872\n",
      "Epoch 8/100\n",
      "\u001b[1m27/27\u001b[0m \u001b[32m━━━━━━━━━━━━━━━━━━━━\u001b[0m\u001b[37m\u001b[0m \u001b[1m0s\u001b[0m 3ms/step - loss: 91329008.0000 - mean_absolute_error: 6668.3970 - val_loss: 77645320.0000 - val_mean_absolute_error: 7025.9043\n",
      "Epoch 9/100\n",
      "\u001b[1m27/27\u001b[0m \u001b[32m━━━━━━━━━━━━━━━━━━━━\u001b[0m\u001b[37m\u001b[0m \u001b[1m0s\u001b[0m 3ms/step - loss: 71243208.0000 - mean_absolute_error: 6559.2607 - val_loss: 69186432.0000 - val_mean_absolute_error: 6462.4482\n",
      "Epoch 10/100\n",
      "\u001b[1m27/27\u001b[0m \u001b[32m━━━━━━━━━━━━━━━━━━━━\u001b[0m\u001b[37m\u001b[0m \u001b[1m0s\u001b[0m 2ms/step - loss: 65611596.0000 - mean_absolute_error: 5995.9634 - val_loss: 61170716.0000 - val_mean_absolute_error: 6090.4976\n",
      "Epoch 11/100\n",
      "\u001b[1m27/27\u001b[0m \u001b[32m━━━━━━━━━━━━━━━━━━━━\u001b[0m\u001b[37m\u001b[0m \u001b[1m0s\u001b[0m 2ms/step - loss: 54598112.0000 - mean_absolute_error: 5704.8647 - val_loss: 55872004.0000 - val_mean_absolute_error: 5798.8203\n",
      "Epoch 12/100\n",
      "\u001b[1m27/27\u001b[0m \u001b[32m━━━━━━━━━━━━━━━━━━━━\u001b[0m\u001b[37m\u001b[0m \u001b[1m0s\u001b[0m 2ms/step - loss: 49605656.0000 - mean_absolute_error: 5448.5439 - val_loss: 52241360.0000 - val_mean_absolute_error: 5503.9434\n",
      "Epoch 13/100\n",
      "\u001b[1m27/27\u001b[0m \u001b[32m━━━━━━━━━━━━━━━━━━━━\u001b[0m\u001b[37m\u001b[0m \u001b[1m0s\u001b[0m 2ms/step - loss: 45783240.0000 - mean_absolute_error: 5117.2202 - val_loss: 49025740.0000 - val_mean_absolute_error: 5293.6763\n",
      "Epoch 14/100\n",
      "\u001b[1m27/27\u001b[0m \u001b[32m━━━━━━━━━━━━━━━━━━━━\u001b[0m\u001b[37m\u001b[0m \u001b[1m0s\u001b[0m 5ms/step - loss: 43044096.0000 - mean_absolute_error: 4975.2007 - val_loss: 46121448.0000 - val_mean_absolute_error: 5104.1016\n",
      "Epoch 15/100\n",
      "\u001b[1m27/27\u001b[0m \u001b[32m━━━━━━━━━━━━━━━━━━━━\u001b[0m\u001b[37m\u001b[0m \u001b[1m0s\u001b[0m 3ms/step - loss: 38306452.0000 - mean_absolute_error: 4698.7627 - val_loss: 44782192.0000 - val_mean_absolute_error: 4907.9780\n",
      "Epoch 16/100\n",
      "\u001b[1m27/27\u001b[0m \u001b[32m━━━━━━━━━━━━━━━━━━━━\u001b[0m\u001b[37m\u001b[0m \u001b[1m0s\u001b[0m 4ms/step - loss: 40146752.0000 - mean_absolute_error: 4787.1030 - val_loss: 43392128.0000 - val_mean_absolute_error: 4754.7759\n",
      "Epoch 17/100\n",
      "\u001b[1m27/27\u001b[0m \u001b[32m━━━━━━━━━━━━━━━━━━━━\u001b[0m\u001b[37m\u001b[0m \u001b[1m0s\u001b[0m 6ms/step - loss: 37203644.0000 - mean_absolute_error: 4434.8174 - val_loss: 42214836.0000 - val_mean_absolute_error: 4640.2983\n",
      "Epoch 18/100\n",
      "\u001b[1m27/27\u001b[0m \u001b[32m━━━━━━━━━━━━━━━━━━━━\u001b[0m\u001b[37m\u001b[0m \u001b[1m0s\u001b[0m 2ms/step - loss: 35131556.0000 - mean_absolute_error: 4384.2812 - val_loss: 41405504.0000 - val_mean_absolute_error: 4515.4668\n",
      "Epoch 19/100\n",
      "\u001b[1m27/27\u001b[0m \u001b[32m━━━━━━━━━━━━━━━━━━━━\u001b[0m\u001b[37m\u001b[0m \u001b[1m0s\u001b[0m 3ms/step - loss: 37882800.0000 - mean_absolute_error: 4302.9648 - val_loss: 40630180.0000 - val_mean_absolute_error: 4436.5327\n",
      "Epoch 20/100\n",
      "\u001b[1m27/27\u001b[0m \u001b[32m━━━━━━━━━━━━━━━━━━━━\u001b[0m\u001b[37m\u001b[0m \u001b[1m0s\u001b[0m 3ms/step - loss: 37818580.0000 - mean_absolute_error: 4421.6694 - val_loss: 40072700.0000 - val_mean_absolute_error: 4337.9556\n",
      "Epoch 21/100\n",
      "\u001b[1m27/27\u001b[0m \u001b[32m━━━━━━━━━━━━━━━━━━━━\u001b[0m\u001b[37m\u001b[0m \u001b[1m0s\u001b[0m 3ms/step - loss: 32645700.0000 - mean_absolute_error: 4038.9509 - val_loss: 40131296.0000 - val_mean_absolute_error: 4277.8711\n",
      "Epoch 22/100\n",
      "\u001b[1m27/27\u001b[0m \u001b[32m━━━━━━━━━━━━━━━━━━━━\u001b[0m\u001b[37m\u001b[0m \u001b[1m0s\u001b[0m 3ms/step - loss: 31112500.0000 - mean_absolute_error: 4007.7695 - val_loss: 39500148.0000 - val_mean_absolute_error: 4213.9204\n",
      "Epoch 23/100\n",
      "\u001b[1m27/27\u001b[0m \u001b[32m━━━━━━━━━━━━━━━━━━━━\u001b[0m\u001b[37m\u001b[0m \u001b[1m0s\u001b[0m 4ms/step - loss: 31024836.0000 - mean_absolute_error: 3953.1370 - val_loss: 38748492.0000 - val_mean_absolute_error: 4143.6289\n",
      "Epoch 24/100\n",
      "\u001b[1m27/27\u001b[0m \u001b[32m━━━━━━━━━━━━━━━━━━━━\u001b[0m\u001b[37m\u001b[0m \u001b[1m0s\u001b[0m 4ms/step - loss: 32370802.0000 - mean_absolute_error: 3868.7922 - val_loss: 38775720.0000 - val_mean_absolute_error: 4117.5415\n",
      "Epoch 25/100\n",
      "\u001b[1m27/27\u001b[0m \u001b[32m━━━━━━━━━━━━━━━━━━━━\u001b[0m\u001b[37m\u001b[0m \u001b[1m0s\u001b[0m 2ms/step - loss: 34029072.0000 - mean_absolute_error: 4047.8359 - val_loss: 39023572.0000 - val_mean_absolute_error: 4073.2664\n",
      "Epoch 26/100\n",
      "\u001b[1m27/27\u001b[0m \u001b[32m━━━━━━━━━━━━━━━━━━━━\u001b[0m\u001b[37m\u001b[0m \u001b[1m0s\u001b[0m 4ms/step - loss: 33000276.0000 - mean_absolute_error: 3863.3772 - val_loss: 38471856.0000 - val_mean_absolute_error: 4032.3792\n",
      "Epoch 27/100\n",
      "\u001b[1m27/27\u001b[0m \u001b[32m━━━━━━━━━━━━━━━━━━━━\u001b[0m\u001b[37m\u001b[0m \u001b[1m0s\u001b[0m 3ms/step - loss: 29910942.0000 - mean_absolute_error: 3709.1719 - val_loss: 37878224.0000 - val_mean_absolute_error: 3983.0105\n",
      "Epoch 28/100\n",
      "\u001b[1m27/27\u001b[0m \u001b[32m━━━━━━━━━━━━━━━━━━━━\u001b[0m\u001b[37m\u001b[0m \u001b[1m0s\u001b[0m 3ms/step - loss: 29013730.0000 - mean_absolute_error: 3780.3394 - val_loss: 38029164.0000 - val_mean_absolute_error: 3974.8796\n",
      "Epoch 29/100\n",
      "\u001b[1m27/27\u001b[0m \u001b[32m━━━━━━━━━━━━━━━━━━━━\u001b[0m\u001b[37m\u001b[0m \u001b[1m0s\u001b[0m 3ms/step - loss: 32655832.0000 - mean_absolute_error: 3776.9282 - val_loss: 37779208.0000 - val_mean_absolute_error: 3936.4001\n",
      "Epoch 30/100\n",
      "\u001b[1m27/27\u001b[0m \u001b[32m━━━━━━━━━━━━━━━━━━━━\u001b[0m\u001b[37m\u001b[0m \u001b[1m0s\u001b[0m 3ms/step - loss: 30451068.0000 - mean_absolute_error: 3732.8254 - val_loss: 37719464.0000 - val_mean_absolute_error: 3917.9229\n",
      "Epoch 31/100\n",
      "\u001b[1m27/27\u001b[0m \u001b[32m━━━━━━━━━━━━━━━━━━━━\u001b[0m\u001b[37m\u001b[0m \u001b[1m0s\u001b[0m 3ms/step - loss: 33745092.0000 - mean_absolute_error: 3884.2031 - val_loss: 37468140.0000 - val_mean_absolute_error: 3901.1917\n",
      "Epoch 32/100\n",
      "\u001b[1m27/27\u001b[0m \u001b[32m━━━━━━━━━━━━━━━━━━━━\u001b[0m\u001b[37m\u001b[0m \u001b[1m0s\u001b[0m 3ms/step - loss: 30247732.0000 - mean_absolute_error: 3676.9751 - val_loss: 37286136.0000 - val_mean_absolute_error: 3870.3333\n",
      "Epoch 33/100\n",
      "\u001b[1m27/27\u001b[0m \u001b[32m━━━━━━━━━━━━━━━━━━━━\u001b[0m\u001b[37m\u001b[0m \u001b[1m0s\u001b[0m 4ms/step - loss: 30194602.0000 - mean_absolute_error: 3700.4575 - val_loss: 37328100.0000 - val_mean_absolute_error: 3860.7153\n",
      "Epoch 34/100\n",
      "\u001b[1m27/27\u001b[0m \u001b[32m━━━━━━━━━━━━━━━━━━━━\u001b[0m\u001b[37m\u001b[0m \u001b[1m0s\u001b[0m 3ms/step - loss: 29209212.0000 - mean_absolute_error: 3623.0525 - val_loss: 36730676.0000 - val_mean_absolute_error: 3836.1985\n",
      "Epoch 35/100\n",
      "\u001b[1m27/27\u001b[0m \u001b[32m━━━━━━━━━━━━━━━━━━━━\u001b[0m\u001b[37m\u001b[0m \u001b[1m0s\u001b[0m 3ms/step - loss: 27900228.0000 - mean_absolute_error: 3495.7295 - val_loss: 36921132.0000 - val_mean_absolute_error: 3824.6255\n",
      "Epoch 36/100\n",
      "\u001b[1m27/27\u001b[0m \u001b[32m━━━━━━━━━━━━━━━━━━━━\u001b[0m\u001b[37m\u001b[0m \u001b[1m0s\u001b[0m 3ms/step - loss: 26813510.0000 - mean_absolute_error: 3381.5210 - val_loss: 36549572.0000 - val_mean_absolute_error: 3797.3928\n",
      "Epoch 37/100\n",
      "\u001b[1m27/27\u001b[0m \u001b[32m━━━━━━━━━━━━━━━━━━━━\u001b[0m\u001b[37m\u001b[0m \u001b[1m0s\u001b[0m 2ms/step - loss: 28803062.0000 - mean_absolute_error: 3516.0952 - val_loss: 36401912.0000 - val_mean_absolute_error: 3778.3884\n",
      "Epoch 38/100\n",
      "\u001b[1m27/27\u001b[0m \u001b[32m━━━━━━━━━━━━━━━━━━━━\u001b[0m\u001b[37m\u001b[0m \u001b[1m0s\u001b[0m 2ms/step - loss: 28543076.0000 - mean_absolute_error: 3506.2573 - val_loss: 36239268.0000 - val_mean_absolute_error: 3759.5894\n",
      "Epoch 39/100\n",
      "\u001b[1m27/27\u001b[0m \u001b[32m━━━━━━━━━━━━━━━━━━━━\u001b[0m\u001b[37m\u001b[0m \u001b[1m0s\u001b[0m 3ms/step - loss: 27065330.0000 - mean_absolute_error: 3418.0364 - val_loss: 36262616.0000 - val_mean_absolute_error: 3755.3916\n",
      "Epoch 40/100\n",
      "\u001b[1m27/27\u001b[0m \u001b[32m━━━━━━━━━━━━━━━━━━━━\u001b[0m\u001b[37m\u001b[0m \u001b[1m0s\u001b[0m 3ms/step - loss: 30207986.0000 - mean_absolute_error: 3652.7310 - val_loss: 36110040.0000 - val_mean_absolute_error: 3743.1929\n",
      "Epoch 41/100\n",
      "\u001b[1m27/27\u001b[0m \u001b[32m━━━━━━━━━━━━━━━━━━━━\u001b[0m\u001b[37m\u001b[0m \u001b[1m0s\u001b[0m 3ms/step - loss: 29026584.0000 - mean_absolute_error: 3466.1550 - val_loss: 36157796.0000 - val_mean_absolute_error: 3729.8418\n",
      "Epoch 42/100\n",
      "\u001b[1m27/27\u001b[0m \u001b[32m━━━━━━━━━━━━━━━━━━━━\u001b[0m\u001b[37m\u001b[0m \u001b[1m0s\u001b[0m 3ms/step - loss: 30601390.0000 - mean_absolute_error: 3516.9575 - val_loss: 35730092.0000 - val_mean_absolute_error: 3701.4824\n",
      "Epoch 43/100\n",
      "\u001b[1m27/27\u001b[0m \u001b[32m━━━━━━━━━━━━━━━━━━━━\u001b[0m\u001b[37m\u001b[0m \u001b[1m0s\u001b[0m 3ms/step - loss: 31181708.0000 - mean_absolute_error: 3631.5984 - val_loss: 35448020.0000 - val_mean_absolute_error: 3691.2498\n",
      "Epoch 44/100\n",
      "\u001b[1m27/27\u001b[0m \u001b[32m━━━━━━━━━━━━━━━━━━━━\u001b[0m\u001b[37m\u001b[0m \u001b[1m0s\u001b[0m 3ms/step - loss: 27460236.0000 - mean_absolute_error: 3346.9998 - val_loss: 35552320.0000 - val_mean_absolute_error: 3675.6895\n",
      "Epoch 45/100\n",
      "\u001b[1m27/27\u001b[0m \u001b[32m━━━━━━━━━━━━━━━━━━━━\u001b[0m\u001b[37m\u001b[0m \u001b[1m0s\u001b[0m 4ms/step - loss: 29371170.0000 - mean_absolute_error: 3519.3120 - val_loss: 35420096.0000 - val_mean_absolute_error: 3659.6780\n",
      "Epoch 46/100\n",
      "\u001b[1m27/27\u001b[0m \u001b[32m━━━━━━━━━━━━━━━━━━━━\u001b[0m\u001b[37m\u001b[0m \u001b[1m0s\u001b[0m 3ms/step - loss: 31048562.0000 - mean_absolute_error: 3659.4976 - val_loss: 35210084.0000 - val_mean_absolute_error: 3642.2227\n",
      "Epoch 47/100\n",
      "\u001b[1m27/27\u001b[0m \u001b[32m━━━━━━━━━━━━━━━━━━━━\u001b[0m\u001b[37m\u001b[0m \u001b[1m0s\u001b[0m 3ms/step - loss: 30167832.0000 - mean_absolute_error: 3463.9648 - val_loss: 35375840.0000 - val_mean_absolute_error: 3640.1624\n",
      "Epoch 48/100\n",
      "\u001b[1m27/27\u001b[0m \u001b[32m━━━━━━━━━━━━━━━━━━━━\u001b[0m\u001b[37m\u001b[0m \u001b[1m0s\u001b[0m 4ms/step - loss: 28266314.0000 - mean_absolute_error: 3408.2468 - val_loss: 35070976.0000 - val_mean_absolute_error: 3615.4087\n",
      "Epoch 49/100\n",
      "\u001b[1m27/27\u001b[0m \u001b[32m━━━━━━━━━━━━━━━━━━━━\u001b[0m\u001b[37m\u001b[0m \u001b[1m0s\u001b[0m 4ms/step - loss: 28868472.0000 - mean_absolute_error: 3438.9067 - val_loss: 34859596.0000 - val_mean_absolute_error: 3600.7576\n",
      "Epoch 50/100\n",
      "\u001b[1m27/27\u001b[0m \u001b[32m━━━━━━━━━━━━━━━━━━━━\u001b[0m\u001b[37m\u001b[0m \u001b[1m0s\u001b[0m 5ms/step - loss: 30231904.0000 - mean_absolute_error: 3504.8005 - val_loss: 34520400.0000 - val_mean_absolute_error: 3598.1633\n",
      "Epoch 51/100\n",
      "\u001b[1m27/27\u001b[0m \u001b[32m━━━━━━━━━━━━━━━━━━━━\u001b[0m\u001b[37m\u001b[0m \u001b[1m0s\u001b[0m 2ms/step - loss: 21817110.0000 - mean_absolute_error: 2999.5232 - val_loss: 34450512.0000 - val_mean_absolute_error: 3577.1621\n",
      "Epoch 52/100\n",
      "\u001b[1m27/27\u001b[0m \u001b[32m━━━━━━━━━━━━━━━━━━━━\u001b[0m\u001b[37m\u001b[0m \u001b[1m0s\u001b[0m 3ms/step - loss: 26485652.0000 - mean_absolute_error: 3316.7400 - val_loss: 34436648.0000 - val_mean_absolute_error: 3568.4810\n",
      "Epoch 53/100\n",
      "\u001b[1m27/27\u001b[0m \u001b[32m━━━━━━━━━━━━━━━━━━━━\u001b[0m\u001b[37m\u001b[0m \u001b[1m0s\u001b[0m 2ms/step - loss: 24704140.0000 - mean_absolute_error: 3252.5247 - val_loss: 34179640.0000 - val_mean_absolute_error: 3562.7898\n",
      "Epoch 54/100\n",
      "\u001b[1m27/27\u001b[0m \u001b[32m━━━━━━━━━━━━━━━━━━━━\u001b[0m\u001b[37m\u001b[0m \u001b[1m0s\u001b[0m 3ms/step - loss: 28902248.0000 - mean_absolute_error: 3486.9634 - val_loss: 34688052.0000 - val_mean_absolute_error: 3552.7749\n",
      "Epoch 55/100\n",
      "\u001b[1m27/27\u001b[0m \u001b[32m━━━━━━━━━━━━━━━━━━━━\u001b[0m\u001b[37m\u001b[0m \u001b[1m0s\u001b[0m 3ms/step - loss: 23679668.0000 - mean_absolute_error: 3115.5903 - val_loss: 33994312.0000 - val_mean_absolute_error: 3529.6514\n",
      "Epoch 56/100\n",
      "\u001b[1m27/27\u001b[0m \u001b[32m━━━━━━━━━━━━━━━━━━━━\u001b[0m\u001b[37m\u001b[0m \u001b[1m0s\u001b[0m 3ms/step - loss: 26333470.0000 - mean_absolute_error: 3321.7168 - val_loss: 33990548.0000 - val_mean_absolute_error: 3518.3306\n",
      "Epoch 57/100\n",
      "\u001b[1m27/27\u001b[0m \u001b[32m━━━━━━━━━━━━━━━━━━━━\u001b[0m\u001b[37m\u001b[0m \u001b[1m0s\u001b[0m 3ms/step - loss: 26524422.0000 - mean_absolute_error: 3174.9790 - val_loss: 34248468.0000 - val_mean_absolute_error: 3500.2356\n",
      "Epoch 58/100\n",
      "\u001b[1m27/27\u001b[0m \u001b[32m━━━━━━━━━━━━━━━━━━━━\u001b[0m\u001b[37m\u001b[0m \u001b[1m0s\u001b[0m 2ms/step - loss: 30539224.0000 - mean_absolute_error: 3412.0847 - val_loss: 34250268.0000 - val_mean_absolute_error: 3500.7273\n",
      "Epoch 59/100\n",
      "\u001b[1m27/27\u001b[0m \u001b[32m━━━━━━━━━━━━━━━━━━━━\u001b[0m\u001b[37m\u001b[0m \u001b[1m0s\u001b[0m 3ms/step - loss: 23243160.0000 - mean_absolute_error: 3005.1167 - val_loss: 33794244.0000 - val_mean_absolute_error: 3477.7051\n",
      "Epoch 60/100\n",
      "\u001b[1m27/27\u001b[0m \u001b[32m━━━━━━━━━━━━━━━━━━━━\u001b[0m\u001b[37m\u001b[0m \u001b[1m0s\u001b[0m 4ms/step - loss: 29729022.0000 - mean_absolute_error: 3320.3569 - val_loss: 33705992.0000 - val_mean_absolute_error: 3476.4658\n",
      "Epoch 61/100\n",
      "\u001b[1m27/27\u001b[0m \u001b[32m━━━━━━━━━━━━━━━━━━━━\u001b[0m\u001b[37m\u001b[0m \u001b[1m0s\u001b[0m 4ms/step - loss: 29075486.0000 - mean_absolute_error: 3223.2480 - val_loss: 33634344.0000 - val_mean_absolute_error: 3463.8484\n",
      "Epoch 62/100\n",
      "\u001b[1m27/27\u001b[0m \u001b[32m━━━━━━━━━━━━━━━━━━━━\u001b[0m\u001b[37m\u001b[0m \u001b[1m0s\u001b[0m 3ms/step - loss: 25617160.0000 - mean_absolute_error: 3190.9397 - val_loss: 33601948.0000 - val_mean_absolute_error: 3436.8201\n",
      "Epoch 63/100\n",
      "\u001b[1m27/27\u001b[0m \u001b[32m━━━━━━━━━━━━━━━━━━━━\u001b[0m\u001b[37m\u001b[0m \u001b[1m0s\u001b[0m 3ms/step - loss: 24371360.0000 - mean_absolute_error: 3052.5562 - val_loss: 33672372.0000 - val_mean_absolute_error: 3444.4224\n",
      "Epoch 64/100\n",
      "\u001b[1m27/27\u001b[0m \u001b[32m━━━━━━━━━━━━━━━━━━━━\u001b[0m\u001b[37m\u001b[0m \u001b[1m0s\u001b[0m 3ms/step - loss: 29015678.0000 - mean_absolute_error: 3327.9424 - val_loss: 33764068.0000 - val_mean_absolute_error: 3429.6553\n",
      "Epoch 65/100\n",
      "\u001b[1m27/27\u001b[0m \u001b[32m━━━━━━━━━━━━━━━━━━━━\u001b[0m\u001b[37m\u001b[0m \u001b[1m0s\u001b[0m 3ms/step - loss: 25307336.0000 - mean_absolute_error: 3075.4329 - val_loss: 33136294.0000 - val_mean_absolute_error: 3442.6953\n",
      "Epoch 66/100\n",
      "\u001b[1m27/27\u001b[0m \u001b[32m━━━━━━━━━━━━━━━━━━━━\u001b[0m\u001b[37m\u001b[0m \u001b[1m0s\u001b[0m 3ms/step - loss: 28555438.0000 - mean_absolute_error: 3369.2195 - val_loss: 33450824.0000 - val_mean_absolute_error: 3405.4199\n",
      "Epoch 67/100\n",
      "\u001b[1m27/27\u001b[0m \u001b[32m━━━━━━━━━━━━━━━━━━━━\u001b[0m\u001b[37m\u001b[0m \u001b[1m0s\u001b[0m 3ms/step - loss: 27081292.0000 - mean_absolute_error: 3165.2495 - val_loss: 33470330.0000 - val_mean_absolute_error: 3387.1907\n",
      "Epoch 68/100\n",
      "\u001b[1m27/27\u001b[0m \u001b[32m━━━━━━━━━━━━━━━━━━━━\u001b[0m\u001b[37m\u001b[0m \u001b[1m0s\u001b[0m 3ms/step - loss: 24681224.0000 - mean_absolute_error: 3042.4951 - val_loss: 33111160.0000 - val_mean_absolute_error: 3389.1418\n",
      "Epoch 69/100\n",
      "\u001b[1m27/27\u001b[0m \u001b[32m━━━━━━━━━━━━━━━━━━━━\u001b[0m\u001b[37m\u001b[0m \u001b[1m0s\u001b[0m 2ms/step - loss: 25504770.0000 - mean_absolute_error: 3086.1743 - val_loss: 32924140.0000 - val_mean_absolute_error: 3399.3391\n",
      "Epoch 70/100\n",
      "\u001b[1m27/27\u001b[0m \u001b[32m━━━━━━━━━━━━━━━━━━━━\u001b[0m\u001b[37m\u001b[0m \u001b[1m0s\u001b[0m 3ms/step - loss: 26325056.0000 - mean_absolute_error: 3199.9014 - val_loss: 33026904.0000 - val_mean_absolute_error: 3373.0427\n",
      "Epoch 71/100\n",
      "\u001b[1m27/27\u001b[0m \u001b[32m━━━━━━━━━━━━━━━━━━━━\u001b[0m\u001b[37m\u001b[0m \u001b[1m0s\u001b[0m 2ms/step - loss: 24701978.0000 - mean_absolute_error: 3000.7173 - val_loss: 32784690.0000 - val_mean_absolute_error: 3362.7249\n",
      "Epoch 72/100\n",
      "\u001b[1m27/27\u001b[0m \u001b[32m━━━━━━━━━━━━━━━━━━━━\u001b[0m\u001b[37m\u001b[0m \u001b[1m0s\u001b[0m 3ms/step - loss: 24260424.0000 - mean_absolute_error: 3095.4841 - val_loss: 32749008.0000 - val_mean_absolute_error: 3369.9014\n",
      "Epoch 73/100\n",
      "\u001b[1m27/27\u001b[0m \u001b[32m━━━━━━━━━━━━━━━━━━━━\u001b[0m\u001b[37m\u001b[0m \u001b[1m0s\u001b[0m 3ms/step - loss: 25837616.0000 - mean_absolute_error: 3119.9692 - val_loss: 32734408.0000 - val_mean_absolute_error: 3346.9912\n",
      "Epoch 74/100\n",
      "\u001b[1m27/27\u001b[0m \u001b[32m━━━━━━━━━━━━━━━━━━━━\u001b[0m\u001b[37m\u001b[0m \u001b[1m0s\u001b[0m 2ms/step - loss: 27417592.0000 - mean_absolute_error: 3242.3042 - val_loss: 32597430.0000 - val_mean_absolute_error: 3345.7756\n",
      "Epoch 75/100\n",
      "\u001b[1m27/27\u001b[0m \u001b[32m━━━━━━━━━━━━━━━━━━━━\u001b[0m\u001b[37m\u001b[0m \u001b[1m0s\u001b[0m 3ms/step - loss: 20951702.0000 - mean_absolute_error: 2782.8096 - val_loss: 32458688.0000 - val_mean_absolute_error: 3348.2944\n",
      "Epoch 76/100\n",
      "\u001b[1m27/27\u001b[0m \u001b[32m━━━━━━━━━━━━━━━━━━━━\u001b[0m\u001b[37m\u001b[0m \u001b[1m0s\u001b[0m 3ms/step - loss: 22903334.0000 - mean_absolute_error: 3091.5974 - val_loss: 32475718.0000 - val_mean_absolute_error: 3340.7234\n",
      "Epoch 77/100\n",
      "\u001b[1m27/27\u001b[0m \u001b[32m━━━━━━━━━━━━━━━━━━━━\u001b[0m\u001b[37m\u001b[0m \u001b[1m0s\u001b[0m 2ms/step - loss: 21445372.0000 - mean_absolute_error: 2864.0564 - val_loss: 32378918.0000 - val_mean_absolute_error: 3318.4478\n",
      "Epoch 78/100\n",
      "\u001b[1m27/27\u001b[0m \u001b[32m━━━━━━━━━━━━━━━━━━━━\u001b[0m\u001b[37m\u001b[0m \u001b[1m0s\u001b[0m 4ms/step - loss: 24047890.0000 - mean_absolute_error: 2988.7148 - val_loss: 32489952.0000 - val_mean_absolute_error: 3289.0698\n",
      "Epoch 79/100\n",
      "\u001b[1m27/27\u001b[0m \u001b[32m━━━━━━━━━━━━━━━━━━━━\u001b[0m\u001b[37m\u001b[0m \u001b[1m0s\u001b[0m 3ms/step - loss: 23329778.0000 - mean_absolute_error: 2940.8303 - val_loss: 32211636.0000 - val_mean_absolute_error: 3311.3870\n",
      "Epoch 80/100\n",
      "\u001b[1m27/27\u001b[0m \u001b[32m━━━━━━━━━━━━━━━━━━━━\u001b[0m\u001b[37m\u001b[0m \u001b[1m0s\u001b[0m 3ms/step - loss: 23983278.0000 - mean_absolute_error: 2965.4780 - val_loss: 32190598.0000 - val_mean_absolute_error: 3288.3765\n",
      "Epoch 81/100\n",
      "\u001b[1m27/27\u001b[0m \u001b[32m━━━━━━━━━━━━━━━━━━━━\u001b[0m\u001b[37m\u001b[0m \u001b[1m0s\u001b[0m 2ms/step - loss: 20581024.0000 - mean_absolute_error: 2724.9072 - val_loss: 31940314.0000 - val_mean_absolute_error: 3332.1641\n",
      "Epoch 82/100\n",
      "\u001b[1m27/27\u001b[0m \u001b[32m━━━━━━━━━━━━━━━━━━━━\u001b[0m\u001b[37m\u001b[0m \u001b[1m0s\u001b[0m 2ms/step - loss: 28562892.0000 - mean_absolute_error: 3372.2971 - val_loss: 32396658.0000 - val_mean_absolute_error: 3265.3318\n",
      "Epoch 83/100\n",
      "\u001b[1m27/27\u001b[0m \u001b[32m━━━━━━━━━━━━━━━━━━━━\u001b[0m\u001b[37m\u001b[0m \u001b[1m0s\u001b[0m 2ms/step - loss: 22330776.0000 - mean_absolute_error: 2858.9312 - val_loss: 31960966.0000 - val_mean_absolute_error: 3265.2546\n",
      "Epoch 84/100\n",
      "\u001b[1m27/27\u001b[0m \u001b[32m━━━━━━━━━━━━━━━━━━━━\u001b[0m\u001b[37m\u001b[0m \u001b[1m0s\u001b[0m 2ms/step - loss: 21724062.0000 - mean_absolute_error: 2876.6323 - val_loss: 31896620.0000 - val_mean_absolute_error: 3268.6204\n",
      "Epoch 85/100\n",
      "\u001b[1m27/27\u001b[0m \u001b[32m━━━━━━━━━━━━━━━━━━━━\u001b[0m\u001b[37m\u001b[0m \u001b[1m0s\u001b[0m 3ms/step - loss: 24636408.0000 - mean_absolute_error: 2980.7708 - val_loss: 31747716.0000 - val_mean_absolute_error: 3278.7856\n",
      "Epoch 86/100\n",
      "\u001b[1m27/27\u001b[0m \u001b[32m━━━━━━━━━━━━━━━━━━━━\u001b[0m\u001b[37m\u001b[0m \u001b[1m0s\u001b[0m 3ms/step - loss: 25666716.0000 - mean_absolute_error: 3121.9177 - val_loss: 31998746.0000 - val_mean_absolute_error: 3227.9797\n",
      "Epoch 87/100\n",
      "\u001b[1m27/27\u001b[0m \u001b[32m━━━━━━━━━━━━━━━━━━━━\u001b[0m\u001b[37m\u001b[0m \u001b[1m0s\u001b[0m 2ms/step - loss: 28530644.0000 - mean_absolute_error: 3166.6506 - val_loss: 31629788.0000 - val_mean_absolute_error: 3273.6404\n",
      "Epoch 88/100\n",
      "\u001b[1m27/27\u001b[0m \u001b[32m━━━━━━━━━━━━━━━━━━━━\u001b[0m\u001b[37m\u001b[0m \u001b[1m0s\u001b[0m 3ms/step - loss: 21007072.0000 - mean_absolute_error: 2820.2754 - val_loss: 31633192.0000 - val_mean_absolute_error: 3247.2249\n",
      "Epoch 89/100\n",
      "\u001b[1m27/27\u001b[0m \u001b[32m━━━━━━━━━━━━━━━━━━━━\u001b[0m\u001b[37m\u001b[0m \u001b[1m0s\u001b[0m 3ms/step - loss: 26581034.0000 - mean_absolute_error: 3132.6257 - val_loss: 31856436.0000 - val_mean_absolute_error: 3204.1921\n",
      "Epoch 90/100\n",
      "\u001b[1m27/27\u001b[0m \u001b[32m━━━━━━━━━━━━━━━━━━━━\u001b[0m\u001b[37m\u001b[0m \u001b[1m0s\u001b[0m 3ms/step - loss: 25191274.0000 - mean_absolute_error: 2906.0896 - val_loss: 31465604.0000 - val_mean_absolute_error: 3268.5940\n",
      "Epoch 91/100\n",
      "\u001b[1m27/27\u001b[0m \u001b[32m━━━━━━━━━━━━━━━━━━━━\u001b[0m\u001b[37m\u001b[0m \u001b[1m0s\u001b[0m 3ms/step - loss: 21922350.0000 - mean_absolute_error: 3010.1838 - val_loss: 31630372.0000 - val_mean_absolute_error: 3199.1948\n",
      "Epoch 92/100\n",
      "\u001b[1m27/27\u001b[0m \u001b[32m━━━━━━━━━━━━━━━━━━━━\u001b[0m\u001b[37m\u001b[0m \u001b[1m0s\u001b[0m 2ms/step - loss: 26725236.0000 - mean_absolute_error: 3160.6626 - val_loss: 31548680.0000 - val_mean_absolute_error: 3191.7356\n",
      "Epoch 93/100\n",
      "\u001b[1m27/27\u001b[0m \u001b[32m━━━━━━━━━━━━━━━━━━━━\u001b[0m\u001b[37m\u001b[0m \u001b[1m0s\u001b[0m 3ms/step - loss: 23057952.0000 - mean_absolute_error: 2750.4861 - val_loss: 31288028.0000 - val_mean_absolute_error: 3253.6514\n",
      "Epoch 94/100\n",
      "\u001b[1m27/27\u001b[0m \u001b[32m━━━━━━━━━━━━━━━━━━━━\u001b[0m\u001b[37m\u001b[0m \u001b[1m0s\u001b[0m 2ms/step - loss: 19493074.0000 - mean_absolute_error: 2651.6665 - val_loss: 31281188.0000 - val_mean_absolute_error: 3208.5322\n",
      "Epoch 95/100\n",
      "\u001b[1m27/27\u001b[0m \u001b[32m━━━━━━━━━━━━━━━━━━━━\u001b[0m\u001b[37m\u001b[0m \u001b[1m0s\u001b[0m 2ms/step - loss: 25914792.0000 - mean_absolute_error: 3078.4438 - val_loss: 31762190.0000 - val_mean_absolute_error: 3152.4370\n",
      "Epoch 96/100\n",
      "\u001b[1m27/27\u001b[0m \u001b[32m━━━━━━━━━━━━━━━━━━━━\u001b[0m\u001b[37m\u001b[0m \u001b[1m0s\u001b[0m 2ms/step - loss: 21191756.0000 - mean_absolute_error: 2633.3997 - val_loss: 31138498.0000 - val_mean_absolute_error: 3275.0088\n",
      "Epoch 97/100\n",
      "\u001b[1m27/27\u001b[0m \u001b[32m━━━━━━━━━━━━━━━━━━━━\u001b[0m\u001b[37m\u001b[0m \u001b[1m0s\u001b[0m 3ms/step - loss: 25406416.0000 - mean_absolute_error: 3147.2036 - val_loss: 31183106.0000 - val_mean_absolute_error: 3192.5913\n",
      "Epoch 98/100\n",
      "\u001b[1m27/27\u001b[0m \u001b[32m━━━━━━━━━━━━━━━━━━━━\u001b[0m\u001b[37m\u001b[0m \u001b[1m0s\u001b[0m 4ms/step - loss: 20917800.0000 - mean_absolute_error: 2749.9062 - val_loss: 31066402.0000 - val_mean_absolute_error: 3222.4080\n",
      "Epoch 99/100\n",
      "\u001b[1m27/27\u001b[0m \u001b[32m━━━━━━━━━━━━━━━━━━━━\u001b[0m\u001b[37m\u001b[0m \u001b[1m0s\u001b[0m 3ms/step - loss: 21949818.0000 - mean_absolute_error: 2798.3157 - val_loss: 31068078.0000 - val_mean_absolute_error: 3182.4644\n",
      "Epoch 100/100\n",
      "\u001b[1m27/27\u001b[0m \u001b[32m━━━━━━━━━━━━━━━━━━━━\u001b[0m\u001b[37m\u001b[0m \u001b[1m0s\u001b[0m 3ms/step - loss: 21706120.0000 - mean_absolute_error: 2768.6362 - val_loss: 31115110.0000 - val_mean_absolute_error: 3171.3298\n",
      "\u001b[1m7/7\u001b[0m \u001b[32m━━━━━━━━━━━━━━━━━━━━\u001b[0m\u001b[37m\u001b[0m \u001b[1m0s\u001b[0m 3ms/step - loss: 25962466.0000 - mean_absolute_error: 2900.3040 \n",
      "Final model accuracy on validation data: 3222.407958984375\n"
     ]
    }
   ],
   "source": [
    "# Hyperparameter tuning, model building, training\n",
    "\n",
    "def build_model(hp):\n",
    "\n",
    "    model = Sequential()\n",
    "\n",
    "    # Adding the first hidden layer   \n",
    "    model.add(Dense(units=hp.Int('units1', min_value=10, max_value=100, step=10),\n",
    "                    activation='relu', input_dim=X_train.shape[1]))\n",
    "                    \n",
    "    # Adding consecutive hidden layers and deciding the number of neurons              \n",
    "    for i in range(hp.Int('num_layers', 1, 8)):  \n",
    "        model.add(Dense(units=hp.Int(f'units_{i+2}', min_value=10, max_value=100, step=10),\n",
    "                        activation='relu')) \n",
    "\n",
    "    # Defining the output layer\n",
    "    model.add(Dense(1))\n",
    "\n",
    "    # Selecting the optimizer\n",
    "    optimizer = hp.Choice('optimizer', values=['adam', 'sgd', 'rmsprop'])\n",
    "\n",
    "    model.compile(optimizer=optimizer, loss='mean_squared_error', metrics=['mean_absolute_error'])\n",
    "    \n",
    "    return model\n",
    "\n",
    "# Setup Keras Tuner with Hyperband algorithm\n",
    "tuner = kt.Hyperband(\n",
    "build_model,\n",
    "objective='val_loss',\n",
    "max_epochs=10,  \n",
    "factor=3,  \n",
    "directory='my_dir',  \n",
    "project_name='hyperparameter_tuning')\n",
    "\n",
    "# Run hyperparameter search\n",
    "tuner.search(X_train, Y_train, epochs=10, validation_data=(X_val, Y_val))\n",
    "\n",
    "\n",
    "# Get the best hyperparameters found by the tuner\n",
    "best_hps = tuner.get_best_hyperparameters(num_trials=1)[0]\n",
    "\n",
    "# Print the best hyperparameters\n",
    "print(f\"Number of layers: {best_hps['num_layers']}\")\n",
    "print(f\"Neurons in first hidden layer: {best_hps['units1']}\")\n",
    "for i in range(best_hps['num_layers']):\n",
    "    print(f\"Neurons in layer {i+2}: {best_hps[f'units_{i+2}']}\")\n",
    "print(f\"Optimizer: {best_hps['optimizer']}\")\n",
    "\n",
    "# Build the best model based on found hyperparameters\n",
    "best_model = tuner.hypermodel.build(best_hps)\n",
    "\n",
    "# Adding early_stopping\n",
    "early_stopping = EarlyStopping(monitor='val_loss',  # Monitor the validation loss\n",
    "                               patience=5,  # Number of epochs to wait for improvement\n",
    "                               restore_best_weights=True)\n",
    "\n",
    "# Train the best model\n",
    "best_model.fit(X_train, Y_train, epochs = 100, validation_data=(X_val, Y_val), callbacks=early_stopping)\n",
    "\n",
    "# Evaluate the best model\n",
    "loss, accuracy = best_model.evaluate(X_val, Y_val)\n",
    "print(f\"Final model accuracy on validation data: {loss}\")\n"
   ]
  },
  {
   "cell_type": "code",
   "execution_count": 16,
   "metadata": {},
   "outputs": [
    {
     "name": "stdout",
     "output_type": "stream",
     "text": [
      "\u001b[1m7/7\u001b[0m \u001b[32m━━━━━━━━━━━━━━━━━━━━\u001b[0m\u001b[37m\u001b[0m \u001b[1m0s\u001b[0m 1ms/step - loss: 25962466.0000 - mean_absolute_error: 2900.3040\n",
      "Final model loss (MSE) on validation data: [31066402.0, 3222.407958984375]\n"
     ]
    }
   ],
   "source": [
    "loss = best_model.evaluate(X_val, Y_val)\n",
    "print(f\"Final model loss (MSE) on validation data: {loss}\")"
   ]
  },
  {
   "cell_type": "code",
   "execution_count": 12,
   "metadata": {},
   "outputs": [],
   "source": [
    "X_test.to_csv('X_test',index=False, header=True)"
   ]
  },
  {
   "cell_type": "code",
   "execution_count": 13,
   "metadata": {},
   "outputs": [],
   "source": [
    "Y_test.to_csv('Y_test',index=False, header=True)"
   ]
  },
  {
   "cell_type": "code",
   "execution_count": 14,
   "metadata": {},
   "outputs": [
    {
     "name": "stderr",
     "output_type": "stream",
     "text": [
      "WARNING:absl:You are saving your model as an HDF5 file via `model.save()` or `keras.saving.save_model(model)`. This file format is considered legacy. We recommend using instead the native Keras format, e.g. `model.save('my_model.keras')` or `keras.saving.save_model(model, 'my_model.keras')`. \n"
     ]
    }
   ],
   "source": [
    "# Saving the model in h5 format\n",
    "best_model.save('model.h5')"
   ]
  },
  {
   "cell_type": "code",
   "execution_count": 15,
   "metadata": {},
   "outputs": [
    {
     "name": "stdout",
     "output_type": "stream",
     "text": [
      "Final model accuracy on validation data: 31066402.0\n"
     ]
    }
   ],
   "source": [
    "print(f\"Final model accuracy on validation data: {loss}\")"
   ]
  }
 ],
 "metadata": {
  "kernelspec": {
   "display_name": "Python 3",
   "language": "python",
   "name": "python3"
  },
  "language_info": {
   "codemirror_mode": {
    "name": "ipython",
    "version": 3
   },
   "file_extension": ".py",
   "mimetype": "text/x-python",
   "name": "python",
   "nbconvert_exporter": "python",
   "pygments_lexer": "ipython3",
   "version": "3.9.18"
  }
 },
 "nbformat": 4,
 "nbformat_minor": 2
}
